{
  "nbformat": 4,
  "nbformat_minor": 0,
  "metadata": {
    "colab": {
      "provenance": [],
      "authorship_tag": "ABX9TyMzhRq9x/+eQi4K9e1n8u/F",
      "include_colab_link": true
    },
    "kernelspec": {
      "name": "python3",
      "display_name": "Python 3"
    },
    "language_info": {
      "name": "python"
    }
  },
  "cells": [
    {
      "cell_type": "markdown",
      "metadata": {
        "id": "view-in-github",
        "colab_type": "text"
      },
      "source": [
        "<a href=\"https://colab.research.google.com/github/femartinsamorim/programacao-pratica_e_treinamento/blob/main/python_classes_treinamento_06_property_e_decorators_copia.ipynb\" target=\"_parent\"><img src=\"https://colab.research.google.com/assets/colab-badge.svg\" alt=\"Open In Colab\"/></a>"
      ]
    },
    {
      "cell_type": "code",
      "execution_count": 1,
      "metadata": {
        "colab": {
          "base_uri": "https://localhost:8080/"
        },
        "id": "LWG13Z6dM24l",
        "outputId": "f1e68af3-ad14-4b24-cffa-e69ba0bb9cbc"
      },
      "outputs": [
        {
          "output_type": "stream",
          "name": "stdout",
          "text": [
            "Nome: Harry\n",
            "Email: harry.styles@empresa.com\n",
            "Nome completo: Harry Styles\n"
          ]
        }
      ],
      "source": [
        "# Classes Decorators (Getters/Setters/Deleters) - Exemplo 01\n",
        "\n",
        "class Funcionario:\n",
        "\n",
        "  def __init__(self,nome,sobrenome,salario):\n",
        "    self.nome = nome\n",
        "    self.sobrenome = sobrenome\n",
        "    self.salario = salario\n",
        "    self.email = nome.lower() + '.' + sobrenome.lower() + '@empresa.com'\n",
        "    \n",
        "\n",
        "  def nomecompleto(self):\n",
        "    return '{} {}'.format(self.nome,self.sobrenome)\n",
        "\n",
        "\n",
        "func_01 = Funcionario('Harry','Styles',18000)\n",
        "\n",
        "print(f'Nome: {func_01.nome}')\n",
        "print(f'Email: {func_01.email}')\n",
        "print('Nome completo: {}'.format(func_01.nomecompleto()))"
      ]
    },
    {
      "cell_type": "code",
      "source": [
        "# Classes Decorators (Getters/Setters/Deleters) - Exemplo 02\n",
        "\n",
        "class Funcionario:\n",
        "\n",
        "  def __init__(self,nome,sobrenome,salario):\n",
        "    self.nome = nome\n",
        "    self.sobrenome = sobrenome\n",
        "    self.salario = salario\n",
        "    self.email = nome.lower() + '.' + sobrenome.lower() + '@empresa.com'\n",
        "    \n",
        "\n",
        "  def nomecompleto(self):\n",
        "    return '{} {}'.format(self.nome,self.sobrenome)\n",
        "\n",
        "\n",
        "func_01 = Funcionario('Harry','Styles',18000)\n",
        "\n",
        "func_01.nome = 'Pete'\n",
        "\n",
        "print(f'Nome: {func_01.nome}')\n",
        "print(f'Email: {func_01.email}') #OBS.: NEcessário tratar o código para corrigir os problema conforme \"email\"\n",
        "print('Nome completo: {}'.format(func_01.nomecompleto()))"
      ],
      "metadata": {
        "colab": {
          "base_uri": "https://localhost:8080/"
        },
        "id": "7MayIg5dOFZW",
        "outputId": "7c25fb8d-241e-4793-89b0-8206d3c12a91"
      },
      "execution_count": 2,
      "outputs": [
        {
          "output_type": "stream",
          "name": "stdout",
          "text": [
            "Nome: Pete\n",
            "Email: harry.styles@empresa.com\n",
            "Nome completo: Pete Styles\n"
          ]
        }
      ]
    },
    {
      "cell_type": "code",
      "source": [
        "# Classes Decorators (Getters/Setters/Deleters) - Exemplo 03\n",
        "\n",
        "class Funcionario:\n",
        "\n",
        "  def __init__(self,nome,sobrenome,salario):\n",
        "    self.nome = nome\n",
        "    self.sobrenome = sobrenome\n",
        "    self.salario = salario\n",
        "\n",
        "# Criando uma função \"@property\"\n",
        "\n",
        "  @property \n",
        "  def email(self):\n",
        "    return '{}.{}@empresa.com'.format(self.nome,self.sobrenome)\n",
        "\n",
        "  @property \n",
        "  def nomecompleto(self):\n",
        "    return '{} {}'.format(self.nome,self.sobrenome)\n",
        "\n",
        "\n",
        "func_01 = Funcionario('Harry','Styles',18000)\n",
        "\n",
        "func_01.nome = 'Pete'\n",
        "\n",
        "print(f'Nome: {func_01.nome}')\n",
        "print(f'Email: {func_01.email}') # S/Parenteses \n",
        "print('Nome completo: {}'.format(func_01.nomecompleto))"
      ],
      "metadata": {
        "colab": {
          "base_uri": "https://localhost:8080/"
        },
        "id": "MdXH2kgXQEZ5",
        "outputId": "baa030b5-5cbd-4fe7-fea4-5c6818cf15ff"
      },
      "execution_count": 3,
      "outputs": [
        {
          "output_type": "stream",
          "name": "stdout",
          "text": [
            "Nome: Pete\n",
            "Email: Pete.Styles@empresa.com\n",
            "Nome completo: Pete Styles\n"
          ]
        }
      ]
    },
    {
      "cell_type": "code",
      "source": [
        "# Classes Decorators (Getters/Setters/Deleters) - Exemplo 04\n",
        "\n",
        "class Funcionario:\n",
        "\n",
        "  def __init__(self,nome,sobrenome,salario):\n",
        "    self.nome = nome\n",
        "    self.sobrenome = sobrenome\n",
        "    self.salario = salario\n",
        "\n",
        "  @property \n",
        "  def email(self):\n",
        "    return '{}.{}@empresa.com'.format(self.nome,self.sobrenome)\n",
        "\n",
        "  @property \n",
        "  def nomecompleto(self):\n",
        "    return '{} {}'.format(self.nome,self.sobrenome)\n",
        "\n",
        "  @nomecompleto.setter # Criando o decorators (setter) para corrigir os erros \"email/nome\"\n",
        "  def nomecompleto(self,nome_2):\n",
        "    nome, sobrenome = nome_2.split(' ')\n",
        "    self.nome = nome\n",
        "    self.sobrenome = sobrenome\n",
        "\n",
        "\n",
        "func_01 = Funcionario('Harry','Styles',18000)\n",
        "\n",
        "func_01.nomecompleto = 'Pete Wentz'\n",
        "\n",
        "print(f'Nome (Alterado): {func_01.nome}')\n",
        "print(f'Email (Alterado): {func_01.email}')\n",
        "print('Nome completo (Alterado): {}'.format(func_01.nomecompleto))"
      ],
      "metadata": {
        "colab": {
          "base_uri": "https://localhost:8080/"
        },
        "id": "bDR3pw4iSeLh",
        "outputId": "1878afb9-f80d-4b63-e8d0-09a10be2f2da"
      },
      "execution_count": 4,
      "outputs": [
        {
          "output_type": "stream",
          "name": "stdout",
          "text": [
            "Nome (Alterado): Pete\n",
            "Email (Alterado): Pete.Wentz@empresa.com\n",
            "Nome completo (Alterado): Pete Wentz\n"
          ]
        }
      ]
    },
    {
      "cell_type": "code",
      "source": [
        "# Classes Decorators (Getters/Setters/Deleters) - Exemplo 05\n",
        "\n",
        "class Funcionario:\n",
        "\n",
        "  def __init__(self,nome,sobrenome,salario):\n",
        "    self.nome = nome\n",
        "    self.sobrenome = sobrenome\n",
        "    self.salario = salario\n",
        "\n",
        "  @property \n",
        "  def email(self):\n",
        "    return '{}.{}@empresa.com'.format(self.nome,self.sobrenome)\n",
        "\n",
        "  @property \n",
        "  def nomecompleto(self):\n",
        "    return '{} {}'.format(self.nome,self.sobrenome)\n",
        "\n",
        "  @nomecompleto.setter\n",
        "  def nomecompleto(self,nome_2):\n",
        "    nome, sobrenome = nome_2.split(' ')\n",
        "    self.nome = nome\n",
        "    self.sobrenome = sobrenome\n",
        "\n",
        "\n",
        "  @nomecompleto.deleter # Criando o decorators (deleter) para deletar informações\n",
        "  def nomecompleto(self):\n",
        "    print(\"Nome Excluído!\")\n",
        "    self.nome = None\n",
        "    self.sobrenome = None\n",
        "\n",
        "\n",
        "func_01 = Funcionario('Harry','Styles',18000)\n",
        "\n",
        "func_01.nomecompleto = 'Pete Wentz'\n",
        "\n",
        "print(f'Nome (Alterado): {func_01.nome}')\n",
        "print(f'Email (Alterado): {func_01.email}')\n",
        "print('Nome completo (Alterado): {}'.format(func_01.nomecompleto))\n",
        "\n",
        "#OBS.: Para usar a função do decorators \"deleter\" é necessário usar a função \"del\"\n",
        "\n",
        "del func_01.nomecompleto\n",
        "print(func_01.nomecompleto)\n",
        "\n"
      ],
      "metadata": {
        "colab": {
          "base_uri": "https://localhost:8080/"
        },
        "id": "9o4c2zZ3WWyU",
        "outputId": "dcb05159-1611-4e24-8df4-e3d213a85de7"
      },
      "execution_count": 5,
      "outputs": [
        {
          "output_type": "stream",
          "name": "stdout",
          "text": [
            "Nome (Alterado): Pete\n",
            "Email (Alterado): Pete.Wentz@empresa.com\n",
            "Nome completo (Alterado): Pete Wentz\n",
            "Nome Excluído!\n",
            "None None\n"
          ]
        }
      ]
    },
    {
      "cell_type": "code",
      "source": [],
      "metadata": {
        "id": "40efBdWMP4ju"
      },
      "execution_count": null,
      "outputs": []
    }
  ]
}