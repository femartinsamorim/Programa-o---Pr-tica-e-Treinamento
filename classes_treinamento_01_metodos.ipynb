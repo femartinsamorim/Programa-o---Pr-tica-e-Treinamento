{
  "nbformat": 4,
  "nbformat_minor": 0,
  "metadata": {
    "colab": {
      "provenance": [],
      "authorship_tag": "ABX9TyPw0juIKw6X8ho09OB5tPCz",
      "include_colab_link": true
    },
    "kernelspec": {
      "name": "python3",
      "display_name": "Python 3"
    },
    "language_info": {
      "name": "python"
    }
  },
  "cells": [
    {
      "cell_type": "markdown",
      "metadata": {
        "id": "view-in-github",
        "colab_type": "text"
      },
      "source": [
        "<a href=\"https://colab.research.google.com/github/femartinsamorim/programacao-pratica_e_treinamento/blob/main/classes_treinamento_01_metodos.ipynb\" target=\"_parent\"><img src=\"https://colab.research.google.com/assets/colab-badge.svg\" alt=\"Open In Colab\"/></a>"
      ]
    },
    {
      "cell_type": "code",
      "execution_count": 8,
      "metadata": {
        "colab": {
          "base_uri": "https://localhost:8080/"
        },
        "id": "DbC8hsw6EhHx",
        "outputId": "823feaf3-98b3-4e45-8a98-770f9c8d8f57"
      },
      "outputs": [
        {
          "output_type": "stream",
          "name": "stdout",
          "text": [
            "Corey\n",
            "corey.taylor@empresa.com\n",
            "Corey Taylor\n",
            "10000\n"
          ]
        }
      ],
      "source": [
        "# Classes Metódos - Exemplo 01\n",
        "class Funcionario:\n",
        "\n",
        "  def __init__(self,nome,sobrenome,salario):\n",
        "    self.nome = nome\n",
        "    self.sobrenome = sobrenome\n",
        "    self.salario = salario\n",
        "    self.email = nome.lower() + '.' + sobrenome.lower() + '@empresa.com'\n",
        "\n",
        "\n",
        "func_01 = Funcionario('Corey','Taylor',10000)\n",
        "func_02 = Funcionario('Jonathan','Davids',8000)\n",
        "print(func_01.nome)\n",
        "print(func_01.email)\n",
        "print('{} {}'.format(func_01.nome,func_01.sobrenome))\n",
        "print(func_01.salario)"
      ]
    },
    {
      "cell_type": "code",
      "source": [
        "# Classes Metódos - Exemplo 02\n",
        "class Funcionario:\n",
        "\n",
        "  def __init__(self,nome,sobrenome,salario):\n",
        "    self.nome = nome\n",
        "    self.sobrenome = sobrenome\n",
        "    self.salario = salario\n",
        "    self.email = nome.lower() + '.' + sobrenome.lower() + '@empresa.com'\n",
        "\n",
        "  def nomecompleto(self):\n",
        "    return f'{self.nome} {self.sobrenome}'\n",
        "\n",
        "\n",
        "func_01 = Funcionario('Corey','Taylor',10000)\n",
        "func_02 = Funcionario('Jonathan','Davids',8000)\n",
        "\n",
        "\n",
        "print(func_02.nome)\n",
        "print(func_02.email)\n",
        "print(func_02.nomecompleto())\n",
        "print(Funcionario.nomecompleto(func_02))"
      ],
      "metadata": {
        "colab": {
          "base_uri": "https://localhost:8080/"
        },
        "id": "p49jgwboHSa8",
        "outputId": "b9fa63fe-3d5b-4d38-8dd1-2955dc2115ca"
      },
      "execution_count": 9,
      "outputs": [
        {
          "output_type": "stream",
          "name": "stdout",
          "text": [
            "Jonathan\n",
            "jonathan.davids@empresa.com\n",
            "Jonathan Davids\n",
            "Jonathan Davids\n"
          ]
        }
      ]
    }
  ]
}