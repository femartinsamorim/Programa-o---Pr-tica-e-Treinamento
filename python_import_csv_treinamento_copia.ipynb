{
  "nbformat": 4,
  "nbformat_minor": 0,
  "metadata": {
    "colab": {
      "provenance": [],
      "authorship_tag": "ABX9TyO86/fCiFfSv1YsqGvo4YnO",
      "include_colab_link": true
    },
    "kernelspec": {
      "name": "python3",
      "display_name": "Python 3"
    },
    "language_info": {
      "name": "python"
    }
  },
  "cells": [
    {
      "cell_type": "markdown",
      "metadata": {
        "id": "view-in-github",
        "colab_type": "text"
      },
      "source": [
        "<a href=\"https://colab.research.google.com/github/femartinsamorim/programacao-pratica_e_treinamento/blob/main/python_import_csv_treinamento_copia.ipynb\" target=\"_parent\"><img src=\"https://colab.research.google.com/assets/colab-badge.svg\" alt=\"Open In Colab\"/></a>"
      ]
    },
    {
      "cell_type": "code",
      "execution_count": null,
      "metadata": {
        "id": "n6scYvbk0LnH"
      },
      "outputs": [],
      "source": [
        "import csv"
      ]
    },
    {
      "cell_type": "code",
      "source": [
        "# EXEMPLO 01 - READER\n",
        "with open ('/content/canais_visua.csv','r') as arquivo:\n",
        "  leitura = csv.reader(arquivo) \n",
        "  for linhas in leitura: # Percorrer Lista\n",
        "    print(linhas)"
      ],
      "metadata": {
        "colab": {
          "base_uri": "https://localhost:8080/"
        },
        "id": "Igo7ozg4p83w",
        "outputId": "26ce2b2d-ae6e-4901-b420-94b82ae38d03"
      },
      "execution_count": null,
      "outputs": [
        {
          "output_type": "stream",
          "name": "stdout",
          "text": [
            "['Canal', 'Inscritos', 'Visualizacoes']\n",
            "['Ciencia e IA', '50054', '3000024']\n",
            "['Viagem e Turismo Brasil', '874666', '54665874']\n",
            "['Mundo Curioso', '1555486', '609845569']\n",
            "['Estilo e Moda', 'NaN', '654785']\n",
            "['Carros de Luxo', '2654484', '905844654']\n",
            "['Shows e Eventos', '9554', '633547']\n",
            "['Musica para Todos', '654873', '60533487']\n",
            "['Python Programming', '90452', '6578994']\n",
            "['Futebol pelo Mundo', '1987467', '844574321']\n"
          ]
        }
      ]
    },
    {
      "cell_type": "code",
      "source": [
        "with open ('/content/canais_visua.csv','r') as arquivo:\n",
        "  leitura = csv.reader(arquivo)\n",
        "  next(leitura)\n",
        "  for linhas in leitura:  \n",
        "    print(linhas[0])\n"
      ],
      "metadata": {
        "colab": {
          "base_uri": "https://localhost:8080/"
        },
        "id": "EG09u75VskEj",
        "outputId": "5b0697bc-eae2-49a9-d128-75b7610021ed"
      },
      "execution_count": null,
      "outputs": [
        {
          "output_type": "stream",
          "name": "stdout",
          "text": [
            "Ciencia e IA\n",
            "Viagem e Turismo Brasil\n",
            "Mundo Curioso\n",
            "Estilo e Moda\n",
            "Carros de Luxo\n",
            "Shows e Eventos\n",
            "Musica para Todos\n",
            "Python Programming\n",
            "Futebol pelo Mundo\n"
          ]
        }
      ]
    },
    {
      "cell_type": "code",
      "source": [
        "# EXEMPLO 02 - WRITER\n",
        "\n",
        "with open ('/content/canais_visua2.csv','r') as arquivo2: #Carregando uma cópia\n",
        "  leitura = csv.reader(arquivo2)\n",
        "  for linhas2 in leitura:  \n",
        "    print(linhas2)"
      ],
      "metadata": {
        "id": "014EDdXbkus6",
        "colab": {
          "base_uri": "https://localhost:8080/"
        },
        "outputId": "73038721-7d7f-4fe2-8144-a2e0cf46e737"
      },
      "execution_count": null,
      "outputs": [
        {
          "output_type": "stream",
          "name": "stdout",
          "text": [
            "['Canal', 'Inscritos', 'Visualizacoes']\n",
            "['Ciencia e IA', '50054', '3000024']\n",
            "['Viagem e Turismo Brasil', '874666', '54665874']\n",
            "['Mundo Curioso', '1555486', '609845569']\n",
            "['Estilo e Moda', 'NaN', '654785']\n",
            "['Carros de Luxo', '2654484', '905844654']\n",
            "['Shows e Eventos', '9554', '633547']\n",
            "['Musica para Todos', '654873', '60533487']\n",
            "['Python Programming', '90452', '6578994']\n",
            "['Futebol pelo Mundo', '1987467', '844574321']\n"
          ]
        }
      ]
    },
    {
      "cell_type": "code",
      "source": [
        "# Executando a função \"writer\"\n",
        "\n",
        "with open ('/content/canais_visua2.csv','r') as arquivo2:\n",
        "  leitura = csv.reader(arquivo2)\n",
        "\n",
        "  with open ('/content/canais_visua2.csv','w') as novo_arquivo2: # Criando novo Arquivo\n",
        "    escrita = csv.writer(novo_arquivo2, delimiter=' ') # Separando por Espaços\n",
        "    \n",
        "    for linhas3 in leitura:\n",
        "      escrita.writerow('python')\n",
        "      print(linhas3)\n",
        "\n",
        "#OBS.: No COLAB não será criado o novo arquivo no diretório."
      ],
      "metadata": {
        "id": "um7MNwt4vJgo"
      },
      "execution_count": null,
      "outputs": []
    },
    {
      "cell_type": "code",
      "source": [
        "#OBS.: No \"COLAB\" não está sendo criado o \"novo_arquivo2\", caso fosse criado poderia visualizar as alterações pelo \"novo_arquivo2\" \n",
        "\n",
        "with open ('/content/novo_arquivo2.csv','r') as csv_file:\n",
        "  csv_reader = csv.reader(csv_file)\n",
        "\n",
        "  for line in csv_reader:\n",
        "    print(line)"
      ],
      "metadata": {
        "colab": {
          "base_uri": "https://localhost:8080/",
          "height": 246
        },
        "id": "dJecBzZo1u8-",
        "outputId": "ada1a210-77e7-451f-98e1-95eedf3056e4"
      },
      "execution_count": null,
      "outputs": [
        {
          "output_type": "error",
          "ename": "FileNotFoundError",
          "evalue": "ignored",
          "traceback": [
            "\u001b[0;31m---------------------------------------------------------------------------\u001b[0m",
            "\u001b[0;31mFileNotFoundError\u001b[0m                         Traceback (most recent call last)",
            "\u001b[0;32m<ipython-input-109-3f9d5b6f5291>\u001b[0m in \u001b[0;36m<cell line: 3>\u001b[0;34m()\u001b[0m\n\u001b[1;32m      1\u001b[0m \u001b[0;31m#OBS.: No \"COLAB\" não está sendo criado o \"novo_arquivo2\", caso fosse criado poderiamos visualizar as alterações abrindo para leitura como \"novo_arquivo2\"\u001b[0m\u001b[0;34m\u001b[0m\u001b[0;34m\u001b[0m\u001b[0m\n\u001b[1;32m      2\u001b[0m \u001b[0;34m\u001b[0m\u001b[0m\n\u001b[0;32m----> 3\u001b[0;31m \u001b[0;32mwith\u001b[0m \u001b[0mopen\u001b[0m \u001b[0;34m(\u001b[0m\u001b[0;34m'/content/novo_arquivo2.csv'\u001b[0m\u001b[0;34m,\u001b[0m\u001b[0;34m'r'\u001b[0m\u001b[0;34m)\u001b[0m \u001b[0;32mas\u001b[0m \u001b[0mcsv_file\u001b[0m\u001b[0;34m:\u001b[0m\u001b[0;34m\u001b[0m\u001b[0;34m\u001b[0m\u001b[0m\n\u001b[0m\u001b[1;32m      4\u001b[0m   \u001b[0mcsv_reader\u001b[0m \u001b[0;34m=\u001b[0m \u001b[0mcsv\u001b[0m\u001b[0;34m.\u001b[0m\u001b[0mreader\u001b[0m\u001b[0;34m(\u001b[0m\u001b[0mcsv_file\u001b[0m\u001b[0;34m)\u001b[0m\u001b[0;34m\u001b[0m\u001b[0;34m\u001b[0m\u001b[0m\n\u001b[1;32m      5\u001b[0m \u001b[0;34m\u001b[0m\u001b[0m\n",
            "\u001b[0;31mFileNotFoundError\u001b[0m: [Errno 2] No such file or directory: '/content/novo_arquivo2.csv'"
          ]
        }
      ]
    },
    {
      "cell_type": "code",
      "source": [
        "#EXEMPLO 03 - DICTREADER\n",
        "\n",
        "with open ('/content/canais_visua.csv','r') as arquivo4:\n",
        "  leitura4 = csv.DictReader(arquivo4)\n",
        "\n",
        "  for linhas4 in leitura4:\n",
        "    print(linhas4)\n",
        "    #print(linhas4['Inscritos']) # Podemos chamar apenas as colunas do dicionário desejado"
      ],
      "metadata": {
        "colab": {
          "base_uri": "https://localhost:8080/"
        },
        "id": "AjAVO-sN5Pii",
        "outputId": "c0b4fff1-59c7-4662-af06-71f5c9fb73ac"
      },
      "execution_count": null,
      "outputs": [
        {
          "output_type": "stream",
          "name": "stdout",
          "text": [
            "{'Canal': 'Ciencia e IA', 'Inscritos': '50054', 'Visualizacoes': '3000024'}\n",
            "{'Canal': 'Viagem e Turismo Brasil', 'Inscritos': '874666', 'Visualizacoes': '54665874'}\n",
            "{'Canal': 'Mundo Curioso', 'Inscritos': '1555486', 'Visualizacoes': '609845569'}\n",
            "{'Canal': 'Estilo e Moda', 'Inscritos': 'NaN', 'Visualizacoes': '654785'}\n",
            "{'Canal': 'Carros de Luxo', 'Inscritos': '2654484', 'Visualizacoes': '905844654'}\n",
            "{'Canal': 'Shows e Eventos', 'Inscritos': '9554', 'Visualizacoes': '633547'}\n",
            "{'Canal': 'Musica para Todos', 'Inscritos': '654873', 'Visualizacoes': '60533487'}\n",
            "{'Canal': 'Python Programming', 'Inscritos': '90452', 'Visualizacoes': '6578994'}\n",
            "{'Canal': 'Futebol pelo Mundo', 'Inscritos': '1987467', 'Visualizacoes': '844574321'}\n"
          ]
        }
      ]
    },
    {
      "cell_type": "code",
      "source": [
        "#EXEMPLO 04 - DICTWRITER\n",
        "\n",
        "with open ('/content/canais_visua.csv','r') as arquivo5:\n",
        "  leitura5 = csv.DictReader(arquivo5)\n",
        "\n",
        "  with open ('/content/canais_visua.csv','w') as novo_arquivo5:\n",
        "    novos_campos = ['Channel','Subcribers','Visualizations'] # Criando uma nova lista de Cabeçalhos\n",
        "    escrita5 = csv.DictWriter(novo_arquivo5, fieldnames='novos_campos', delimiter='-')\n",
        "\n",
        "    escrita5.writeheader() # Função para sobrescrever os nomes do cabeçalho(headline)\n",
        "\n",
        "    for linhas5 in leitura5:\n",
        "      print(linhas5)\n",
        "\n",
        "#OBS.: NO COLAB não será criado um novo arquivo \"csv\" no diretório para conseguir verificar as alterações."
      ],
      "metadata": {
        "id": "PQU8vtXu7QP8"
      },
      "execution_count": null,
      "outputs": []
    },
    {
      "cell_type": "code",
      "source": [
        "# EXEMPLO 05 - EXCLUSÂO (RODAR COM O RESTO DO COMANDO A CIMA)\n",
        "\n",
        "novos_campos = ['Channel','Subcribers']\n",
        "\n",
        "for linhas5 in leitura5: # Usar a função \"del\" dentro do \"for\"\n",
        "  del linhas5['Visualizations']\n",
        "  print(linhas5)"
      ],
      "metadata": {
        "id": "JMDdlqD592fC"
      },
      "execution_count": null,
      "outputs": []
    }
  ]
}