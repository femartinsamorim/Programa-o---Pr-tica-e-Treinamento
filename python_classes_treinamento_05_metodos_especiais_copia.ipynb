{
  "nbformat": 4,
  "nbformat_minor": 0,
  "metadata": {
    "colab": {
      "provenance": [],
      "authorship_tag": "ABX9TyOUoClYZsIfh2/peUABlniv",
      "include_colab_link": true
    },
    "kernelspec": {
      "name": "python3",
      "display_name": "Python 3"
    },
    "language_info": {
      "name": "python"
    }
  },
  "cells": [
    {
      "cell_type": "markdown",
      "metadata": {
        "id": "view-in-github",
        "colab_type": "text"
      },
      "source": [
        "<a href=\"https://colab.research.google.com/github/femartinsamorim/programacao-pratica_e_treinamento/blob/main/python_classes_treinamento_05_metodos_especiais_copia.ipynb\" target=\"_parent\"><img src=\"https://colab.research.google.com/assets/colab-badge.svg\" alt=\"Open In Colab\"/></a>"
      ]
    },
    {
      "cell_type": "code",
      "execution_count": 6,
      "metadata": {
        "colab": {
          "base_uri": "https://localhost:8080/"
        },
        "id": "IFmMih9D_yph",
        "outputId": "0b123f4e-c257-4a5b-c6d8-083235ca76a9"
      },
      "outputs": [
        {
          "output_type": "stream",
          "name": "stdout",
          "text": [
            "Joey Madden - joey.madden@empresa.com\n"
          ]
        }
      ],
      "source": [
        "# Classes Métodos Especiais (Magic/Dunder) - Exemplo 01\n",
        "\n",
        "class Funcionario:\n",
        "\n",
        "  comissao_taxa = 1.5 \n",
        "\n",
        "  def __init__(self,nome,sobrenome,salario):\n",
        "    self.nome = nome\n",
        "    self.sobrenome = sobrenome\n",
        "    self.salario = salario\n",
        "    self.email = nome.lower() + '.' + sobrenome.lower() + '@empresa.com'\n",
        "    \n",
        "\n",
        "  def nomecompleto(self):\n",
        "    return '{} {}'.format(self.nome,self.sobrenome)\n",
        "\n",
        "\n",
        "  def comissao(self):\n",
        "    self.salario = int(self.salario * Funcionario.comissao_taxa)\n",
        "    return self.salario\n",
        "\n",
        "\n",
        "  def __repr__ (self):\n",
        "    return 'Funcionario(\"{}\",\"{}\",{})'.format(self.nome,self.sobrenome,self.salario)\n",
        "\n",
        "\n",
        "  def __str__(self):\n",
        "    return '{} - {}'.format(self.nomecompleto(),self.email)\n",
        "\n",
        "\n",
        "func_01 = Funcionario('Joey','Madden',8000)\n",
        "func_02 = Funcionario('Benji','Madden',8200)\n",
        "\n",
        "print(func_01) \n",
        "\n",
        "# Print Antes da Função (__repr__): <__main__.Funcionario object at 0x7f278da3af80>\n",
        "# Print Depois da Função (__repr__): Funcionario(\"Joey\",\"Madden\",8000)\n",
        "# Print da Função (__str__): Joey Madden - joey.madden@empresa.com"
      ]
    },
    {
      "cell_type": "code",
      "source": [
        "# Classes Métodos Especiais (Magic/Dunder) - Exemplo 02\n",
        "\n",
        "class Funcionario:\n",
        "\n",
        "  comissao_taxa = 1.5 \n",
        "\n",
        "  def __init__(self,nome,sobrenome,salario):\n",
        "    self.nome = nome\n",
        "    self.sobrenome = sobrenome\n",
        "    self.salario = salario\n",
        "    self.email = nome.lower() + '.' + sobrenome.lower() + '@empresa.com'\n",
        "    \n",
        "\n",
        "  def nomecompleto(self):\n",
        "    return '{} {}'.format(self.nome,self.sobrenome)\n",
        "\n",
        "\n",
        "  def comissao(self):\n",
        "    self.salario = int(self.salario * Funcionario.comissao_taxa)\n",
        "    return self.salario\n",
        "\n",
        "\n",
        "  def __repr__ (self):\n",
        "    return 'Funcionario(\"{}\",\"{}\",{})'.format(self.nome,self.sobrenome,self.salario)\n",
        "\n",
        "\n",
        "  def __str__(self):\n",
        "    return '{} - {}'.format(self.nomecompleto(),self.email)\n",
        "\n",
        "\n",
        "func_01 = Funcionario('Joey','Madden',8000)\n",
        "func_02 = Funcionario('Benji','Madden',8200)\n",
        "\n",
        "print(repr(func_01))\n",
        "print(str(func_01))\n",
        "print('\\n')\n",
        "print(func_02.__repr__())\n",
        "print(func_02.__str__())"
      ],
      "metadata": {
        "colab": {
          "base_uri": "https://localhost:8080/"
        },
        "id": "qt4DiomiE0zk",
        "outputId": "15cadf65-8fd3-4bc9-d3a0-6d4a160627c8"
      },
      "execution_count": 5,
      "outputs": [
        {
          "output_type": "stream",
          "name": "stdout",
          "text": [
            "Funcionario(\"Joey\",\"Madden\",8000)\n",
            "Joey Madden - joey.madden@empresa.com\n",
            "\n",
            "\n",
            "Funcionario(\"Benji\",\"Madden\",8200)\n",
            "Benji Madden - benji.madden@empresa.com\n"
          ]
        }
      ]
    },
    {
      "cell_type": "code",
      "source": [
        "# Classes Métodos Especiais (Magic/Dunder) - Exemplo 03\n",
        "\n",
        "class Funcionario:\n",
        "\n",
        "  comissao_taxa = 1.5 \n",
        "\n",
        "  def __init__(self,nome,sobrenome,salario):\n",
        "    self.nome = nome\n",
        "    self.sobrenome = sobrenome\n",
        "    self.salario = salario\n",
        "    self.email = nome.lower() + '.' + sobrenome.lower() + '@empresa.com'\n",
        "    \n",
        "\n",
        "  def nomecompleto(self):\n",
        "    return '{} {}'.format(self.nome,self.sobrenome)\n",
        "\n",
        "\n",
        "  def comissao(self):\n",
        "    self.salario = int(self.salario * Funcionario.comissao_taxa)\n",
        "    return self.salario\n",
        "\n",
        "\n",
        "  def __repr__ (self):\n",
        "    return 'Funcionario(\"{}\",\"{}\",{})'.format(self.nome,self.sobrenome,self.salario)\n",
        "\n",
        "\n",
        "  def __str__(self):\n",
        "    return '{} - {}'.format(self.nomecompleto(),self.email)\n",
        "\n",
        "\n",
        "func_01 = Funcionario('Joey','Madden',8000)\n",
        "func_02 = Funcionario('Benji','Madden',8200)\n",
        "\n",
        "print(4 + 6)\n",
        "print(int.__add__(4, 6)) # A função \"__add__\" para operações\n",
        "print(str.__add__(\"a\", \"c\"))\n"
      ],
      "metadata": {
        "colab": {
          "base_uri": "https://localhost:8080/"
        },
        "id": "a-cU2B-WFSS2",
        "outputId": "73428369-6a84-499b-88c2-b5e263899fa7"
      },
      "execution_count": 4,
      "outputs": [
        {
          "output_type": "stream",
          "name": "stdout",
          "text": [
            "10\n",
            "10\n",
            "ac\n"
          ]
        }
      ]
    },
    {
      "cell_type": "code",
      "source": [
        "# Classes Métodos Especiais (Magic/Dunder) - Exemplo 04\n",
        "\n",
        "class Funcionario:\n",
        "\n",
        "  comissao_taxa = 1.5 \n",
        "\n",
        "  def __init__(self,nome,sobrenome,salario):\n",
        "    self.nome = nome\n",
        "    self.sobrenome = sobrenome\n",
        "    self.salario = salario\n",
        "    self.email = nome.lower() + '.' + sobrenome.lower() + '@empresa.com'\n",
        "    \n",
        "\n",
        "  def nomecompleto(self):\n",
        "    return '{} {}'.format(self.nome,self.sobrenome)\n",
        "\n",
        "\n",
        "  def comissao(self):\n",
        "    self.salario = int(self.salario * Funcionario.comissao_taxa)\n",
        "    return self.salario\n",
        "\n",
        "\n",
        "  def __repr__ (self):\n",
        "    return 'Funcionario(\"{}\",\"{}\",{})'.format(self.nome,self.sobrenome,self.salario)\n",
        "\n",
        "\n",
        "  def __str__(self):\n",
        "    return '{} - {}'.format(self.nomecompleto(),self.email)\n",
        "\n",
        "\n",
        "  def __add__(self,other):\n",
        "    return self.salario + other.salario # Função \"add\"\n",
        "\n",
        "\n",
        "func_01 = Funcionario('Joey','Madden',8000)\n",
        "func_02 = Funcionario('Benji','Madden',8200)\n",
        "\n",
        "print(func_01 + func_02) # Não é necessário chamar a função.\n",
        "\n",
        "# OBS.: Existe vários outros métodos em \"Emulating numeric type\" como (sub,mul,and, etc)"
      ],
      "metadata": {
        "colab": {
          "base_uri": "https://localhost:8080/"
        },
        "id": "mi5liydvG0YO",
        "outputId": "7f3c89f3-0194-4ce8-ccb0-bb11e15e8d97"
      },
      "execution_count": 3,
      "outputs": [
        {
          "output_type": "stream",
          "name": "stdout",
          "text": [
            "16200\n"
          ]
        }
      ]
    },
    {
      "cell_type": "code",
      "source": [
        "# Classes Métodos Especiais (Magic/Dunder) - Exemplo 05\n",
        "\n",
        "class Funcionario:\n",
        "\n",
        "  comissao_taxa = 1.5 \n",
        "\n",
        "  def __init__(self,nome,sobrenome,salario):\n",
        "    self.nome = nome\n",
        "    self.sobrenome = sobrenome\n",
        "    self.salario = salario\n",
        "    self.email = nome.lower() + '.' + sobrenome.lower() + '@empresa.com'\n",
        "    \n",
        "\n",
        "  def nomecompleto(self):\n",
        "    return '{} {}'.format(self.nome,self.sobrenome)\n",
        "\n",
        "\n",
        "  def comissao(self):\n",
        "    self.salario = int(self.salario * Funcionario.comissao_taxa)\n",
        "    return self.salario\n",
        "\n",
        "\n",
        "  def __repr__ (self):\n",
        "    return 'Funcionario(\"{}\",\"{}\",{})'.format(self.nome,self.sobrenome,self.salario)\n",
        "\n",
        "\n",
        "  def __str__(self):\n",
        "    return '{} - {}'.format(self.nomecompleto(),self.email)\n",
        "\n",
        "\n",
        "  def __add__(self,other):\n",
        "    return self.salario + other.salario\n",
        "\n",
        "\n",
        "  def __len__(self): # Exemplo de função \"LEN\"\n",
        "    return len(self.nomecompleto())\n",
        "\n",
        "\n",
        "func_01 = Funcionario('Joey','Madden',8000)\n",
        "func_02 = Funcionario('Benji','Madden',8200)\n",
        "\n",
        "print(len(func_01.nome))\n",
        "print(func_01.nome.__len__()) # Método \"len\" com o mesmo retorno \n",
        "print('\\n')\n",
        "print(f'Contagem LEN pela Função (Nome Completo): {len(func_01)}')"
      ],
      "metadata": {
        "colab": {
          "base_uri": "https://localhost:8080/"
        },
        "id": "Yj5e2bd1JU1r",
        "outputId": "42449ed0-310c-4be4-81da-13d3e0841385"
      },
      "execution_count": 2,
      "outputs": [
        {
          "output_type": "stream",
          "name": "stdout",
          "text": [
            "4\n",
            "4\n",
            "\n",
            "\n",
            "Contagem LEN pela Função (Nome Completo): 11\n"
          ]
        }
      ]
    }
  ]
}