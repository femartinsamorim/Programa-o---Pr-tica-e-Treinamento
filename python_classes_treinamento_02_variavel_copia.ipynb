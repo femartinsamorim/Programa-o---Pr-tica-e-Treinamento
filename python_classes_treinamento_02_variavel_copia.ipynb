{
  "nbformat": 4,
  "nbformat_minor": 0,
  "metadata": {
    "colab": {
      "provenance": [],
      "include_colab_link": true
    },
    "kernelspec": {
      "name": "python3",
      "display_name": "Python 3"
    },
    "language_info": {
      "name": "python"
    }
  },
  "cells": [
    {
      "cell_type": "markdown",
      "metadata": {
        "id": "view-in-github",
        "colab_type": "text"
      },
      "source": [
        "<a href=\"https://colab.research.google.com/github/femartinsamorim/programacao-pratica_e_treinamento/blob/main/python_classes_treinamento_02_variavel_copia.ipynb\" target=\"_parent\"><img src=\"https://colab.research.google.com/assets/colab-badge.svg\" alt=\"Open In Colab\"/></a>"
      ]
    },
    {
      "cell_type": "code",
      "execution_count": null,
      "metadata": {
        "colab": {
          "base_uri": "https://localhost:8080/"
        },
        "id": "nQW2eum3UbNt",
        "outputId": "cd112968-c74e-422d-c1e7-404d731d420d"
      },
      "outputs": [
        {
          "output_type": "stream",
          "name": "stdout",
          "text": [
            "Salário de R$10000 reais\n",
            "Salário de R$15000 reais após comissão\n"
          ]
        }
      ],
      "source": [
        "# Classes Variáveis - Exemplo 01\n",
        "\n",
        "class Funcionario:\n",
        "\n",
        "  def __init__(self,nome,sobrenome,salario):\n",
        "    self.nome = nome\n",
        "    self.sobrenome = sobrenome\n",
        "    self.salario = salario\n",
        "    self.email = nome.lower() + '.' + sobrenome.lower() + '@empresa.com'\n",
        "\n",
        "  def nomecompleto(self):\n",
        "    return f'{self.nome} {self.sobrenome}'\n",
        "\n",
        "  def comissao(self):\n",
        "    self.salario = int(self.salario * 1.5)\n",
        "\n",
        "\n",
        "func_01 = Funcionario('Corey','Taylor',10000)\n",
        "func_02 = Funcionario('Adam','Levine',8000)\n",
        "\n",
        "print(f'Salário de R${func_01.salario} reais')\n",
        "func_01.comissao()\n",
        "print(f'Salário de R${func_01.salario} reais após comissão')\n"
      ]
    },
    {
      "cell_type": "code",
      "source": [
        "# Classes Variáveis - Exemplo 02\n",
        "\n",
        "class Funcionario:\n",
        "\n",
        "  comissao_taxa = 1.5 # Adicionado uma variável para a função \"comissão\"\n",
        "\n",
        "  def __init__(self,nome,sobrenome,salario):\n",
        "    self.nome = nome\n",
        "    self.sobrenome = sobrenome\n",
        "    self.salario = salario\n",
        "    self.email = nome.lower() + '.' + sobrenome.lower() + '@empresa.com'\n",
        "\n",
        "  def nomecompleto(self):\n",
        "    return '{} {}'.format(self.nome,self.sobrenome)\n",
        "\n",
        "  def comissao(self):\n",
        "    self.salario = int(self.salario * Funcionario.comissao_taxa) \n",
        "\n",
        "\n",
        "func_01 = Funcionario('Corey','Taylor',10000)\n",
        "func_02 = Funcionario('Adam','Levine',8000)\n",
        "\n",
        "func_01.comissao()\n",
        "print(f'A comissão mensal gerada para o funcionário {func_01.nomecompleto()} foi de R${func_01.salario} reais.\\nEste valor foi obtido de uma taxa de {func_01.comissao_taxa}%')\n",
        "print(f'Dados do Funcionário: {func_01.__dict__}') #  função \"__dict__\"\n",
        "print('\\n')\n",
        "\n",
        "# Atribuindo valores \n",
        "\n",
        "func_01.comissao_taxa = 2.5\n",
        "print(f'Dados do Funcionário: {func_01.__dict__}')\n",
        "print(func_01.comissao_taxa)"
      ],
      "metadata": {
        "colab": {
          "base_uri": "https://localhost:8080/"
        },
        "id": "8yVdygKsUnoK",
        "outputId": "3f7e2187-4261-4022-ef01-6a81da1c101a"
      },
      "execution_count": null,
      "outputs": [
        {
          "output_type": "stream",
          "name": "stdout",
          "text": [
            "A comissão mensal gerada para o funcionário Corey Taylor foi de R$15000 reais.\n",
            "Este valor foi obtido de uma taxa de 1.5%\n",
            "Dados do Funcionário: {'nome': 'Corey', 'sobrenome': 'Taylor', 'salario': 15000, 'email': 'corey.taylor@empresa.com'}\n",
            "\n",
            "\n",
            "Dados do Funcionário: {'nome': 'Corey', 'sobrenome': 'Taylor', 'salario': 15000, 'email': 'corey.taylor@empresa.com', 'comissao_taxa': 2.5}\n",
            "2.5\n"
          ]
        }
      ]
    },
    {
      "cell_type": "code",
      "source": [
        "# Classes Variáveis - Exemplo 03\n",
        "\n",
        "class Funcionario:\n",
        "\n",
        "  num_funcionario = 0 # Adicionado uma variável para contagem da quantidade de funcionário\n",
        "  comissao_taxa = 1.5 \n",
        "\n",
        "  def __init__(self,nome,sobrenome,salario):\n",
        "    self.nome = nome\n",
        "    self.sobrenome = sobrenome\n",
        "    self.salario = salario\n",
        "    self.email = nome.lower() + '.' + sobrenome.lower() + '@empresa.com'\n",
        "    \n",
        "    Funcionario.num_funcionario += 1\n",
        "\n",
        "  def nomecompleto(self):\n",
        "    return '{} {}'.format(self.nome,self.sobrenome)\n",
        "\n",
        "  def comissao(self):\n",
        "    self.salario = int(self.salario * Funcionario.comissao_taxa)\n",
        "\n",
        "\n",
        "print(f'Quantidade de Funcionário: {Funcionario.num_funcionario}') # Primeira leitura sem funcionários\n",
        "\n",
        "func_01 = Funcionario('Corey','Taylor',10000)\n",
        "func_02 = Funcionario('Adam','Levine',8000)\n",
        "\n",
        "print(f'Quantidade de Funcionário: {Funcionario.num_funcionario}') # Segunda leitura 02 funcionários, pois foram inseridos anteriormente a essa chamada.\n",
        "\n",
        "func_03 = Funcionario('Michael','Myers',12000)\n",
        "\n",
        "print(f'Quantidade de Funcionário: {Funcionario.num_funcionario}') # Terceira leitura 03 funcionários, pois foram inseridos anteriormente a essa chamada."
      ],
      "metadata": {
        "colab": {
          "base_uri": "https://localhost:8080/"
        },
        "id": "D9fU-NP0UpWi",
        "outputId": "93d4560e-b1a0-427d-e1f0-0e50110bc8be"
      },
      "execution_count": null,
      "outputs": [
        {
          "output_type": "stream",
          "name": "stdout",
          "text": [
            "Quantidade de Funcionário: 0\n",
            "Quantidade de Funcionário: 2\n",
            "Quantidade de Funcionário: 3\n"
          ]
        }
      ]
    }
  ]
}