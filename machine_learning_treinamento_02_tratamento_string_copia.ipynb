{
  "nbformat": 4,
  "nbformat_minor": 0,
  "metadata": {
    "colab": {
      "provenance": [],
      "include_colab_link": true
    },
    "kernelspec": {
      "name": "python3",
      "display_name": "Python 3"
    },
    "language_info": {
      "name": "python"
    }
  },
  "cells": [
    {
      "cell_type": "markdown",
      "metadata": {
        "id": "view-in-github",
        "colab_type": "text"
      },
      "source": [
        "<a href=\"https://colab.research.google.com/github/femartinsamorim/programacao-pratica_e_treinamento/blob/main/machine_learning_treinamento_02_tratamento_string_copia.ipynb\" target=\"_parent\"><img src=\"https://colab.research.google.com/assets/colab-badge.svg\" alt=\"Open In Colab\"/></a>"
      ]
    },
    {
      "cell_type": "code",
      "execution_count": 1,
      "metadata": {
        "id": "1IvN2JRYyab8"
      },
      "outputs": [],
      "source": [
        "import numpy as np\n",
        "import pandas as pd"
      ]
    },
    {
      "cell_type": "code",
      "source": [
        "# Separando os valores entre variáveis independentes \"X\" e dependentes \"y\" \n",
        "df = pd.read_csv('/content/notas.csv',delimiter=',')\n",
        "modelo = df.iloc[:,:]\n",
        "X = df.iloc[:,:-1].values\n",
        "y = df.iloc[:,-1].values\n",
        "print(modelo)\n",
        "print('\\n')\n",
        "print(X)\n",
        "print('\\n')\n",
        "print(y)"
      ],
      "metadata": {
        "colab": {
          "base_uri": "https://localhost:8080/"
        },
        "id": "nPc-d7tAz5Hr",
        "outputId": "dd07df10-109f-4048-a68d-614d08385d0d"
      },
      "execution_count": 2,
      "outputs": [
        {
          "output_type": "stream",
          "name": "stdout",
          "text": [
            "      Nome  Nota 1  Nota2  Nota3  TOEFL  Aprovado\n",
            "0   Felipe      30     20     38     98         1\n",
            "1   Amanda      25     23     40     96         1\n",
            "2  Marcelo      15     10     30     83         0\n",
            "3  Matheus      30     30     39     99         1\n",
            "4  Larissa      29      0     30     95         0\n",
            "\n",
            "\n",
            "[['Felipe' 30 20 38 98]\n",
            " ['Amanda' 25 23 40 96]\n",
            " ['Marcelo' 15 10 30 83]\n",
            " ['Matheus' 30 30 39 99]\n",
            " ['Larissa' 29 0 30 95]]\n",
            "\n",
            "\n",
            "[1 1 0 1 0]\n"
          ]
        }
      ]
    },
    {
      "cell_type": "code",
      "source": [
        "# Alterando os nomes para \"rotúlos\" de forma random como um ID\n",
        "from sklearn.preprocessing import LabelEncoder\n",
        "label_X = LabelEncoder()\n",
        "X[:,0] = label_X.fit_transform(X[:,0]) \n",
        "print(X)"
      ],
      "metadata": {
        "colab": {
          "base_uri": "https://localhost:8080/"
        },
        "id": "vB4JqrbD1Hwj",
        "outputId": "d7cd1b7d-6919-4836-cdd8-8d39cc438c92"
      },
      "execution_count": 3,
      "outputs": [
        {
          "output_type": "stream",
          "name": "stdout",
          "text": [
            "[[1 30 20 38 98]\n",
            " [0 25 23 40 96]\n",
            " [3 15 10 30 83]\n",
            " [4 30 30 39 99]\n",
            " [2 29 0 30 95]]\n"
          ]
        }
      ]
    },
    {
      "cell_type": "code",
      "source": [
        "# Utilizando o \"One-Hot Encode\" para transformar os números em binários.\n",
        "\n",
        "D = pd.get_dummies(X[:,0]) # transformação da coluna em binários\n",
        "X = X[:,1:] #Removendo a coluna \"0\"\n",
        "X = np.insert(X, 0, D.values, axis=1)\n",
        "print(X)"
      ],
      "metadata": {
        "colab": {
          "base_uri": "https://localhost:8080/"
        },
        "id": "So1JvnAJ3UHs",
        "outputId": "c0b46149-731a-4ad8-f93b-18feac46f28b"
      },
      "execution_count": 4,
      "outputs": [
        {
          "output_type": "stream",
          "name": "stdout",
          "text": [
            "[[0 1 0 0 0 30 20 38 98]\n",
            " [1 0 0 0 0 25 23 40 96]\n",
            " [0 0 0 0 1 15 10 30 83]\n",
            " [0 0 1 0 0 30 30 39 99]\n",
            " [0 0 0 1 0 29 0 30 95]]\n"
          ]
        },
        {
          "output_type": "stream",
          "name": "stderr",
          "text": [
            "<ipython-input-4-6ccf57d4adb9>:3: FutureWarning: In a future version, the Index constructor will not infer numeric dtypes when passed object-dtype sequences (matching Series behavior)\n",
            "  D = pd.get_dummies(X[:,0]) # transformação da coluna em binários\n"
          ]
        }
      ]
    },
    {
      "cell_type": "code",
      "source": [
        "# Treino x Teste\n",
        "from sklearn.model_selection import train_test_split\n",
        "XTrain, Xtest, yTrain, yTest = train_test_split(X,y, test_size = 0.2) #20% em Teste\n",
        "print(XTrain)"
      ],
      "metadata": {
        "colab": {
          "base_uri": "https://localhost:8080/"
        },
        "id": "FiudjAJt9mCS",
        "outputId": "9815878e-62d8-4e78-cca0-7e035a804414"
      },
      "execution_count": 5,
      "outputs": [
        {
          "output_type": "stream",
          "name": "stdout",
          "text": [
            "[[0 0 0 0 1 15 10 30 83]\n",
            " [0 0 0 1 0 29 0 30 95]\n",
            " [1 0 0 0 0 25 23 40 96]\n",
            " [0 0 1 0 0 30 30 39 99]]\n"
          ]
        }
      ]
    }
  ]
}