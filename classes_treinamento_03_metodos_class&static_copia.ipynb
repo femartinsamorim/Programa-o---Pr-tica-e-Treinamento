{
  "nbformat": 4,
  "nbformat_minor": 0,
  "metadata": {
    "colab": {
      "provenance": [],
      "include_colab_link": true
    },
    "kernelspec": {
      "name": "python3",
      "display_name": "Python 3"
    },
    "language_info": {
      "name": "python"
    }
  },
  "cells": [
    {
      "cell_type": "markdown",
      "metadata": {
        "id": "view-in-github",
        "colab_type": "text"
      },
      "source": [
        "<a href=\"https://colab.research.google.com/github/femartinsamorim/programacao-pratica_e_treinamento/blob/main/classes_treinamento_03_metodos_class%26static_copia.ipynb\" target=\"_parent\"><img src=\"https://colab.research.google.com/assets/colab-badge.svg\" alt=\"Open In Colab\"/></a>"
      ]
    },
    {
      "cell_type": "code",
      "execution_count": 1,
      "metadata": {
        "colab": {
          "base_uri": "https://localhost:8080/"
        },
        "id": "jgc10z_6bI3r",
        "outputId": "7e4fdcb3-90f6-46a0-f69b-057e41314833"
      },
      "outputs": [
        {
          "output_type": "stream",
          "name": "stdout",
          "text": [
            "Funcionario: Chris Motionless\n",
            "Salário: R$13000\n",
            "Salário C/ Comissão: R$19500\n",
            "Porcentagem da Comissão: 1.5%\n",
            "\n",
            "\n",
            "Funcionario: Chris Motionless\n",
            "Salário: R$7000\n",
            "Salário C/ Comissão 2.0 (Recheada): R$31500\n",
            "Porcentagem da Comissão: 4.5% (Porcentagem Atribuída Manualmente)\n"
          ]
        }
      ],
      "source": [
        "# Classes Metódos de Classes e Estáticos - Exemplo 01\n",
        "\n",
        "class Funcionario:\n",
        "\n",
        "  num_funcionario = 0\n",
        "  comissao_taxa = 1.5 \n",
        "\n",
        "  def __init__(self,nome,sobrenome,salario):\n",
        "    self.nome = nome\n",
        "    self.sobrenome = sobrenome\n",
        "    self.salario = salario\n",
        "    self.email = nome.lower() + '.' + sobrenome.lower() + '@empresa.com'\n",
        "    \n",
        "\n",
        "  def nomecompleto(self):\n",
        "    return '{} {}'.format(self.nome,self.sobrenome)\n",
        "\n",
        "  def comissao(self):\n",
        "    self.salario = int(self.salario * Funcionario.comissao_taxa)\n",
        "    return self.salario\n",
        "\n",
        "  @classmethod  #  \n",
        "  def comissao_doispontozero(cls, porcentagem):  # Usaremos a função \"cls\" \n",
        "    cls.comissao_taxa = porcentagem\n",
        "\n",
        "\n",
        "func_01 = Funcionario('Freddie','Mercury',13000)\n",
        "func_02 = Funcionario('Chris','Motionless',7000)\n",
        "\n",
        "print(f'Funcionario: {func_02.nomecompleto()}')\n",
        "print(f'Salário: R${func_01.salario}')\n",
        "print(f'Salário C/ Comissão: R${func_01.comissao()}')\n",
        "print(f'Porcentagem da Comissão: {func_01.comissao_taxa}%')\n",
        "print('\\n')\n",
        "\n",
        "Funcionario.comissao_doispontozero(4.5) # Atribuindo uma nova comissão pela classe criada\n",
        "print(f'Funcionario: {func_02.nomecompleto()}')\n",
        "print(f'Salário: R${func_02.salario}')\n",
        "print(f'Salário C/ Comissão 2.0 (Recheada): R${func_02.comissao()}')\n",
        "print(f'Porcentagem da Comissão: {func_02.comissao_taxa}% (Porcentagem Atribuída Manualmente)' )"
      ]
    },
    {
      "cell_type": "code",
      "source": [
        "# Classes Metódos de Classes e Estáticos - Exemplo 02\n",
        "\n",
        "class Funcionario:\n",
        "\n",
        "  num_funcionario = 0\n",
        "  comissao_taxa = 1.5 \n",
        "\n",
        "  def __init__(self,nome,sobrenome,salario):\n",
        "    self.nome = nome\n",
        "    self.sobrenome = sobrenome\n",
        "    self.salario = salario\n",
        "    self.email = nome.lower() + '.' + sobrenome.lower() + '@empresa.com'\n",
        "    \n",
        "    Funcionario.num_funcionario += 1\n",
        "\n",
        "  def nomecompleto(self):\n",
        "    return '{} {}'.format(self.nome,self.sobrenome)\n",
        "\n",
        "  def comissao(self):\n",
        "    self.salario = int(self.salario * Funcionario.comissao_taxa)\n",
        "    return self.salario\n",
        "\n",
        "  @classmethod\n",
        "  def comissao_doispontozero(cls, porcentagem):\n",
        "    cls.comissao_taxa = porcentagem\n",
        "\n",
        "\n",
        "func_01 = Funcionario('Freddie','Mercury',13000)\n",
        "func_02 = Funcionario('Chris','Motionless',7000)\n",
        "\n",
        "# Construção Alternativa - Metodo Classe\n",
        "\n",
        "func_string_01 = 'Samara-Morgan-9000' # Declarando 2 novas variaveis de funcionarios\n",
        "func_string_02 = 'Jack-Torrance-11000'\n",
        "\n",
        "nome, sobrenome, salario = func_string_01.split('-')\n",
        "funcionario_01 = Funcionario(nome, sobrenome, salario)\n",
        "\n",
        "print(funcionario_01.nomecompleto())\n",
        "print(funcionario_01.email)\n",
        "print(funcionario_01.salario)\n",
        "\n",
        "\n"
      ],
      "metadata": {
        "colab": {
          "base_uri": "https://localhost:8080/"
        },
        "id": "eRdR84vbi8mJ",
        "outputId": "8e2a9779-35b5-47b6-e9ca-dc1268a2a539"
      },
      "execution_count": 3,
      "outputs": [
        {
          "output_type": "stream",
          "name": "stdout",
          "text": [
            "Samara Morgan\n",
            "samara.morgan@empresa.com\n",
            "9000\n"
          ]
        }
      ]
    },
    {
      "cell_type": "code",
      "source": [
        "# Classes Metódos de Classes e Estáticos - Exemplo 03\n",
        "\n",
        "class Funcionario:\n",
        "\n",
        "  num_funcionario = 0\n",
        "  comissao_taxa = 1.5 \n",
        "\n",
        "  def __init__(self,nome,sobrenome,salario):\n",
        "    self.nome = nome\n",
        "    self.sobrenome = sobrenome\n",
        "    self.salario = salario\n",
        "    self.email = nome.lower() + '.' + sobrenome.lower() + '@empresa.com'\n",
        "    \n",
        "    Funcionario.num_funcionario += 1\n",
        "\n",
        "  def nomecompleto(self):\n",
        "    return '{} {}'.format(self.nome,self.sobrenome)\n",
        "\n",
        "  def comissao(self):\n",
        "    self.salario = int(self.salario * Funcionario.comissao_taxa)\n",
        "    return self.salario\n",
        "\n",
        "  @classmethod\n",
        "  def comissao_doispontozero(cls, porcentagem):\n",
        "    cls.comissao_taxa = porcentagem\n",
        "\n",
        "  @classmethod\n",
        "  def funcionario_string(cls,func_string):\n",
        "    nome, sobrenome, salario = func_string.split('-')\n",
        "    return cls(nome, sobrenome, salario) # Atribuída de forma direta a função, sem receber uma variável como antes\n",
        "\n",
        "\n",
        "func_01 = Funcionario('Freddie','Mercury',13000)\n",
        "func_02 = Funcionario('Chris','Motionless',7000)\n",
        "\n",
        "# Construção Alternativa - Metodo Classe\n",
        "\n",
        "func_string_01 = 'Samara-Morgan-9000'\n",
        "func_string_02 = 'Jack-Torrance-11000'\n",
        "\n",
        "\n",
        "funcionario_02 = Funcionario.funcionario_string(func_string_02) \n",
        "\n",
        "print(funcionario_02.nomecompleto())\n",
        "print(funcionario_02.email)\n",
        "print(funcionario_02.salario)\n",
        "\n",
        "\n"
      ],
      "metadata": {
        "colab": {
          "base_uri": "https://localhost:8080/"
        },
        "id": "tT-BXmBimSv_",
        "outputId": "9addcc5f-187f-4fa2-8da9-88fe35281a9c"
      },
      "execution_count": 4,
      "outputs": [
        {
          "output_type": "stream",
          "name": "stdout",
          "text": [
            "Jack Torrance\n",
            "jack.torrance@empresa.com\n",
            "11000\n"
          ]
        }
      ]
    },
    {
      "cell_type": "code",
      "source": [
        "# Classes Metódos de Classes e Estáticos - Exemplo 04\n",
        "\n",
        "class Funcionario:\n",
        "\n",
        "  num_funcionario = 0\n",
        "  comissao_taxa = 1.5 \n",
        "\n",
        "  def __init__(self,nome,sobrenome,salario):\n",
        "    self.nome = nome\n",
        "    self.sobrenome = sobrenome\n",
        "    self.salario = salario\n",
        "    self.email = nome.lower() + '.' + sobrenome.lower() + '@halloween.com'\n",
        "    \n",
        "    Funcionario.num_funcionario += 1\n",
        "\n",
        "  def nomecompleto(self):\n",
        "    return '{} {}'.format(self.nome,self.sobrenome)\n",
        "\n",
        "  def comissao(self):\n",
        "    self.salario = int(self.salario * Funcionario.comissao_taxa)\n",
        "    return self.salario\n",
        "\n",
        "  @classmethod\n",
        "  def comissao_doispontozero(cls, porcentagem):\n",
        "    cls.comissao_taxa = porcentagem\n",
        "\n",
        "  @classmethod\n",
        "  def funcionario_string(cls,func_string):\n",
        "    nome, sobrenome, salario = func_string.split('-')\n",
        "    return cls(nome, sobrenome, salario)\n",
        "\n",
        "# Metódo Estático\n",
        "\n",
        "  @staticmethod\n",
        "  def dia_trabalho(dia): #Metodos Estáticos não necessitam iniciar com funções (self, cls)\n",
        "    if dia.weekday() == 0 or dia.weekday() == 6:\n",
        "      return f'Hoje to suave, não vou trabalhar FINAL DE SEMANA'\n",
        "    return f'Borá trabalhar!'\n",
        "\n",
        "import datetime # Importando a biblioteca de data para chamada do metódo\n",
        "dia_semana = datetime.date(2023, 4, 22)\n",
        "print(Funcionario.dia_trabalho(dia_semana))\n",
        "\n",
        "func_01 = Funcionario('Freddie','Mercury',13000)\n",
        "func_02 = Funcionario('Chris','Motionless',7000)"
      ],
      "metadata": {
        "colab": {
          "base_uri": "https://localhost:8080/"
        },
        "id": "-Z5yQf7RqQdL",
        "outputId": "a84fb384-69c0-4248-8256-efbbd15d610b"
      },
      "execution_count": 5,
      "outputs": [
        {
          "output_type": "stream",
          "name": "stdout",
          "text": [
            "Borá trabalhar!\n"
          ]
        }
      ]
    }
  ]
}