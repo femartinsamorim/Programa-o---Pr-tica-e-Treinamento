{
  "nbformat": 4,
  "nbformat_minor": 0,
  "metadata": {
    "colab": {
      "provenance": [],
      "include_colab_link": true
    },
    "kernelspec": {
      "name": "python3",
      "display_name": "Python 3"
    },
    "language_info": {
      "name": "python"
    }
  },
  "cells": [
    {
      "cell_type": "markdown",
      "metadata": {
        "id": "view-in-github",
        "colab_type": "text"
      },
      "source": [
        "<a href=\"https://colab.research.google.com/github/femartinsamorim/programacao-pratica_e_treinamento/blob/main/classes_treinamento_04_subclasses_copia.ipynb\" target=\"_parent\"><img src=\"https://colab.research.google.com/assets/colab-badge.svg\" alt=\"Open In Colab\"/></a>"
      ]
    },
    {
      "cell_type": "code",
      "execution_count": 1,
      "metadata": {
        "colab": {
          "base_uri": "https://localhost:8080/"
        },
        "id": "JQu_rqH3wDNT",
        "outputId": "051c6173-f191-4803-c55e-62977b557ab5"
      },
      "outputs": [
        {
          "output_type": "stream",
          "name": "stdout",
          "text": [
            "Brandon Flowers\n",
            "Michel Jordan\n",
            "Help on class Gerente in module __main__:\n",
            "\n",
            "class Gerente(Funcionario)\n",
            " |  Gerente(nome, sobrenome, salario)\n",
            " |  \n",
            " |  Method resolution order:\n",
            " |      Gerente\n",
            " |      Funcionario\n",
            " |      builtins.object\n",
            " |  \n",
            " |  Methods inherited from Funcionario:\n",
            " |  \n",
            " |  __init__(self, nome, sobrenome, salario)\n",
            " |      Initialize self.  See help(type(self)) for accurate signature.\n",
            " |  \n",
            " |  comissao(self)\n",
            " |  \n",
            " |  nomecompleto(self)\n",
            " |  \n",
            " |  ----------------------------------------------------------------------\n",
            " |  Data descriptors inherited from Funcionario:\n",
            " |  \n",
            " |  __dict__\n",
            " |      dictionary for instance variables (if defined)\n",
            " |  \n",
            " |  __weakref__\n",
            " |      list of weak references to the object (if defined)\n",
            " |  \n",
            " |  ----------------------------------------------------------------------\n",
            " |  Data and other attributes inherited from Funcionario:\n",
            " |  \n",
            " |  comissao_taxa = 1.5\n",
            "\n",
            "None\n"
          ]
        }
      ],
      "source": [
        "# Classes Metódos de SubClasses - Exemplo 01\n",
        "\n",
        "class Funcionario:\n",
        "\n",
        "  comissao_taxa = 1.5 \n",
        "\n",
        "  def __init__(self,nome,sobrenome,salario):\n",
        "    self.nome = nome\n",
        "    self.sobrenome = sobrenome\n",
        "    self.salario = salario\n",
        "    self.email = nome.lower() + '.' + sobrenome.lower() + '@empresa.com'\n",
        "\n",
        "  def nomecompleto(self):\n",
        "    return '{} {}'.format(self.nome,self.sobrenome)\n",
        "\n",
        "  def comissao(self):\n",
        "    self.salario = int(self.salario * Funcionario.comissao_taxa)\n",
        "    return self.salario\n",
        "\n",
        "  # Criando subclasses para a Classe principal \"Funcionario\"\n",
        "\n",
        "class Desenvolvedor(Funcionario):\n",
        "  pass\n",
        "\n",
        "class Gerente(Funcionario):\n",
        "  pass\n",
        "\n",
        "\n",
        "func_01 = Desenvolvedor('Brandon','Flowers',11000)\n",
        "func_02 = Gerente('Michel','Jordan',18000)\n",
        "\n",
        "print(func_01.nomecompleto())\n",
        "print(func_02.nomecompleto())\n",
        "\n",
        "print(help(Gerente)) # O comando \"help\" retorna as instruções da função selecionada"
      ]
    },
    {
      "cell_type": "code",
      "source": [
        "# Classes Metódos de SubClasses - Exemplo 02\n",
        "\n",
        "class Funcionario:\n",
        "\n",
        "  comissao_taxa = 0.2 \n",
        "\n",
        "  def __init__(self,nome,sobrenome,salario):\n",
        "    self.nome = nome\n",
        "    self.sobrenome = sobrenome\n",
        "    self.salario = salario\n",
        "    self.email = nome.lower() + '.' + sobrenome.lower() + '@empresa.com'\n",
        "\n",
        "  def nomecompleto(self):\n",
        "    return '{} {}'.format(self.nome,self.sobrenome)\n",
        "\n",
        "  def comissao(self):\n",
        "    self.salario = int((self.salario * self.comissao_taxa) + self.salario)\n",
        "    self.salario\n",
        "\n",
        "  # Criando subclasses para a Classe principal \"Funcionario\"\n",
        "\n",
        "class Desenvolvedor(Funcionario):\n",
        " comissao_taxa = 0.5 \n",
        "\n",
        "class Gerente(Funcionario):\n",
        " comissao_taxa = 0.8\n",
        " \n",
        "\n",
        "\n",
        "func_01 = Funcionario('Jason','Voorhees',5000)\n",
        "func_02 = Desenvolvedor('Brandon','Flowers',11000)\n",
        "func_03 = Gerente('Michel','Jordan',18000)\n",
        "\n",
        "print('Funcionário 01: Funcionario')\n",
        "print(f'Salario: R${func_01.salario}')\n",
        "func_01.comissao()\n",
        "print(f'Salario/Comissão: R${func_01.salario}')\n",
        "\n",
        "print('\\nFuncionário 02: Desenvolvedor')\n",
        "print(f'Salario: R${func_02.salario}')\n",
        "func_02.comissao()\n",
        "print(f'Salario/Comissão: R${func_02.salario}')\n",
        "\n",
        "print('\\nFuncionário 03: Gerente')\n",
        "print(f'Salario: R${func_03.salario}')\n",
        "func_03.comissao()\n",
        "print(f'Salario/Comissão: R${func_03.salario}')"
      ],
      "metadata": {
        "colab": {
          "base_uri": "https://localhost:8080/"
        },
        "id": "lb9465Fe3V3t",
        "outputId": "5815afda-0601-4948-de56-6fed5d67d6ea"
      },
      "execution_count": 2,
      "outputs": [
        {
          "output_type": "stream",
          "name": "stdout",
          "text": [
            "Funcionário 01: Funcionario\n",
            "Salario: R$5000\n",
            "Salario/Comissão: R$6000\n",
            "\n",
            "Funcionário 02: Desenvolvedor\n",
            "Salario: R$11000\n",
            "Salario/Comissão: R$16500\n",
            "\n",
            "Funcionário 03: Gerente\n",
            "Salario: R$18000\n",
            "Salario/Comissão: R$32400\n"
          ]
        }
      ]
    },
    {
      "cell_type": "code",
      "source": [
        "# Classes Metódos de SubClasses - Exemplo 03\n",
        "\n",
        "class Funcionario:\n",
        "\n",
        "  comissao_taxa = 0.2 \n",
        "\n",
        "  def __init__(self,nome,sobrenome,salario):\n",
        "    self.nome = nome\n",
        "    self.sobrenome = sobrenome\n",
        "    self.salario = salario\n",
        "    self.email = nome.lower() + '.' + sobrenome.lower() + '@halloween.com'\n",
        "\n",
        "  def nomecompleto(self):\n",
        "    return '{} {}'.format(self.nome,self.sobrenome)\n",
        "\n",
        "  def comissao(self):\n",
        "    self.salario = int((self.salario * self.comissao_taxa) + self.salario)\n",
        "    self.salario\n",
        "\n",
        "  # Adicionando funções especificas as subclasses (Desenvolvedor)\n",
        "\n",
        "class Desenvolvedor(Funcionario):\n",
        " comissao_taxa = 0.5 \n",
        " def __init__(self,nome,sobrenome,salario,cargo):\n",
        "   super().__init__(nome,sobrenome,salario) # reutilizando as  configurações/atribuições da Classe principal\n",
        "   #Funcionario.__init__(self,nome,sobrenome,salario) # Comando alternativo\n",
        "   self.cargo = cargo\n",
        "\n",
        "class Gerente(Funcionario):\n",
        " comissao_taxa = 0.8\n",
        " \n",
        "\n",
        "\n",
        "func_01 = Funcionario('Jason','Voorhees',5000)\n",
        "func_02 = Desenvolvedor('Brandon','Flowers',11000,'Desenvolvedor Full Stack Senior')\n",
        "func_03 = Gerente('Michel','Jordan',18000)\n",
        "\n",
        "print('Funcionário 01: Funcionario')\n",
        "print(f'Salario: R${func_01.salario}')\n",
        "func_01.comissao()\n",
        "print(f'Salario/Comissão: R${func_01.salario}')\n",
        "\n",
        "print('\\nFuncionário 02: Desenvolvedor')\n",
        "print(f'Salario: R${func_02.salario}')\n",
        "print(f'Cargo: {func_02.cargo}')\n",
        "func_02.comissao()\n",
        "print(f'Salario/Comissão: R${func_02.salario}')\n",
        "\n",
        "print('\\nFuncionário 03: Gerente')\n",
        "print(f'Salario: R${func_03.salario}')\n",
        "func_03.comissao()\n",
        "print(f'Salario/Comissão: R${func_03.salario}')"
      ],
      "metadata": {
        "colab": {
          "base_uri": "https://localhost:8080/"
        },
        "id": "V-RW-pcN_r5S",
        "outputId": "b104eb14-80e8-4c1c-e23f-a8b64264423c"
      },
      "execution_count": 3,
      "outputs": [
        {
          "output_type": "stream",
          "name": "stdout",
          "text": [
            "Funcionário 01: Funcionario\n",
            "Salario: R$5000\n",
            "Salario/Comissão: R$6000\n",
            "\n",
            "Funcionário 02: Desenvolvedor\n",
            "Salario: R$11000\n",
            "Cargo: Desenvolvedor Full Stack Senior\n",
            "Salario/Comissão: R$16500\n",
            "\n",
            "Funcionário 03: Gerente\n",
            "Salario: R$18000\n",
            "Salario/Comissão: R$32400\n"
          ]
        }
      ]
    },
    {
      "cell_type": "code",
      "source": [
        "# Classes Metódos de SubClasses - Exemplo 04\n",
        "\n",
        "class Funcionario:\n",
        "\n",
        "  comissao_taxa = 0.2 \n",
        "\n",
        "  def __init__(self,nome,sobrenome,salario):\n",
        "    self.nome = nome\n",
        "    self.sobrenome = sobrenome\n",
        "    self.salario = salario\n",
        "    self.email = nome.lower() + '.' + sobrenome.lower() + '@halloween.com'\n",
        "\n",
        "  def nomecompleto(self):\n",
        "    return '{} {}'.format(self.nome,self.sobrenome)\n",
        "\n",
        "  def comissao(self):\n",
        "    self.salario = int((self.salario * self.comissao_taxa) + self.salario)\n",
        "    self.salario\n",
        "\n",
        "  # Adicionando funções especificas as subclasses (Gerente)\n",
        "\n",
        "class Desenvolvedor(Funcionario):\n",
        "  comissao_taxa = 0.5 \n",
        "\n",
        "  def __init__(self,nome,sobrenome,salario,cargo):\n",
        "   super().__init__(nome,sobrenome,salario)\n",
        "   self.cargo = cargo\n",
        "\n",
        "class Gerente(Funcionario):\n",
        "  comissao_taxa = 0.8\n",
        "\n",
        "  def __init__(self,nome,sobrenome,salario,subordinados=None):\n",
        "   super().__init__(nome,sobrenome,salario)\n",
        "   if subordinados is None:  # Criando uma condição com lista para adicionar os funcionários subordinados a variável\n",
        "    self.subordinados = []\n",
        "   else:\n",
        "     self.subordinados = subordinados\n",
        "\n",
        "  def add_subordinado(self,func): # Função para adicionar os funcionários na lista de subordinados. \n",
        "    if func not in self.subordinados:\n",
        "      self.subordinados.append(func)\n",
        "\n",
        "  def excluir_subordinado(self,func): # Função para remover os funcionários na lista de subordinados. \n",
        "    if func in self.subordinados:\n",
        "      self.subordinados.remove(func)\n",
        "\n",
        "  def lista_subordinados(self): # Função para listar todos os funcionários \n",
        "    for func in self.subordinados:\n",
        "      print(func.nome)\n",
        "\n",
        "func_01 = Funcionario('Jason','Voorhees',5000)\n",
        "func_02 = Desenvolvedor('Brandon','Flowers',11000,'Desenvolvedor Full Stack Senior')\n",
        "func_04 = Desenvolvedor('Hoo','Taryo',11000,'Desenvolvedor Java Senior')\n",
        "func_05 = Desenvolvedor('Lee','Jon',8000,'Desenvolvedor Full Stack Pleno')\n",
        "\n",
        "# Adicionando subordinados ao Gerente\n",
        "\n",
        "func_03 = Gerente('Michel','Jordan',18000, [func_02,func_04,func_05])\n",
        "\n",
        "print('\\nFuncionário 03: Gerente')\n",
        "print(f'Salario: R${func_03.salario}')\n",
        "func_03.comissao()\n",
        "print(f'Salario/Comissão: R${func_03.salario}')\n",
        "func_03.lista_subordinados()"
      ],
      "metadata": {
        "colab": {
          "base_uri": "https://localhost:8080/"
        },
        "id": "RdJtY3tNCPNJ",
        "outputId": "2de35345-3bb1-437c-c590-3f3d7c3879ad"
      },
      "execution_count": 4,
      "outputs": [
        {
          "output_type": "stream",
          "name": "stdout",
          "text": [
            "\n",
            "Funcionário 03: Gerente\n",
            "Salario: R$18000\n",
            "Salario/Comissão: R$32400\n",
            "Brandon\n",
            "Hoo\n",
            "Lee\n"
          ]
        }
      ]
    },
    {
      "cell_type": "code",
      "source": [
        "# Comando para verificar se uma instância faz parte de uma Classe\n",
        "print(isinstance(func_03, Gerente)) \n",
        "print(isinstance(func_02, Gerente))\n",
        "print(isinstance(func_04, Desenvolvedor))\n",
        "print('\\n')\n",
        "# Comando para verificar se uma instância faz parte de uma SubClasse\n",
        "print(issubclass(Gerente, Funcionario)) \n",
        "print(issubclass(Desenvolvedor, Funcionario))\n",
        "print(issubclass(Funcionario, Gerente))"
      ],
      "metadata": {
        "colab": {
          "base_uri": "https://localhost:8080/"
        },
        "id": "4D-CRvLTLTLW",
        "outputId": "63ce9120-73af-4628-90fb-ab882b266a90"
      },
      "execution_count": 5,
      "outputs": [
        {
          "output_type": "stream",
          "name": "stdout",
          "text": [
            "True\n",
            "False\n",
            "True\n",
            "\n",
            "\n",
            "True\n",
            "True\n",
            "False\n"
          ]
        }
      ]
    }
  ]
}